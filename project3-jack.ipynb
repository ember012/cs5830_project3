{
 "cells": [
  {
   "cell_type": "markdown",
   "metadata": {},
   "source": [
    "# Project 3: What makes a top movie?"
   ]
  },
  {
   "cell_type": "code",
   "execution_count": null,
   "metadata": {},
   "outputs": [],
   "source": [
    "from bs4 import BeautifulSoup\n",
    "import pandas as pd \n",
    "import seaborn as sns\n",
    "import requests\n",
    "import re\n"
   ]
  },
  {
   "cell_type": "markdown",
   "metadata": {},
   "source": [
    "Data comes from the movies [here](https://www.imdb.com/chart/top/?ref_=nv_mv_250)."
   ]
  },
  {
   "cell_type": "code",
   "execution_count": null,
   "metadata": {},
   "outputs": [],
   "source": [
    "#Basic exersize: Go through each movie and get the title\n",
    "headers = {'User-Agent': 'Mozilla/5.0 (Windows NT 10.0; Win64; x64) AppleWebKit/537.36 (KHTML, like Gecko) Chrome/121.0.0.0 Safari/537.36'}\n",
    "title_page = requests.get('https://www.imdb.com/chart/top/?ref_=nv_mv_250', headers=headers)\n",
    "tp_soup = BeautifulSoup(title_page.content, 'html.parser')\n"
   ]
  },
  {
   "cell_type": "code",
   "execution_count": null,
   "metadata": {},
   "outputs": [],
   "source": [
    "\n",
    "top_movies = tp_soup.find_all('li', attrs={'class': 'ipc-metadata-list-summary-item sc-1364e729-0 caNpAE cli-parent'})\n",
    "\n",
    "titles = [re.sub(r'\\d+\\.\\s*','' ,str(item.find('h3', attrs={'class':'ipc-title__text'}).contents[0])) for item in top_movies]\n",
    "display(titles)\n"
   ]
  },
  {
   "cell_type": "code",
   "execution_count": null,
   "metadata": {},
   "outputs": [],
   "source": [
    "movie_page_urls = ['https://www.imdb.com' + str(item.find('a').get('href')[0:16] + '/reviews') for item in top_movies]\n",
    "movie_page_urls\n"
   ]
  },
  {
   "cell_type": "code",
   "execution_count": null,
   "metadata": {},
   "outputs": [],
   "source": [
    "all_urls = []\n",
    "for url in movie_page_urls:\n",
    "    for i in range(1, 11):\n",
    "        all_urls.append(url +\"?sort=userRating&dir=desc&ratingFilter=\" + str(i))\n",
    "all_urls"
   ]
  },
  {
   "cell_type": "code",
   "execution_count": null,
   "metadata": {},
   "outputs": [],
   "source": [
    "# Each index of all_pages_reviews_list is the top voted reviews of a given rating. \n",
    "\n",
    "import time\n",
    "all_pages_reviews_list = []\n",
    "for i in all_urls:\n",
    "    html_reviews = requests.get(i, headers=headers)\n",
    "    soup_reviews = BeautifulSoup(html_reviews.text)\n",
    "    all_pages_reviews = soup_reviews.find_all('div', attrs={'class': 'text show-more__control'})\n",
    "    all_pages_reviews = [i.get_text(strip=True ) for i in all_pages_reviews]\n",
    "    all_pages_reviews_list.append(all_pages_reviews)\n",
    "    time.sleep(10)\n",
    "display(len(all_pages_reviews_list))\n",
    "\n",
    "#10 items per movie\n",
    "#about 20 reviews per item\n",
    "# dict: movie[all reviews of movie]"
   ]
  },
  {
   "cell_type": "code",
   "execution_count": null,
   "metadata": {},
   "outputs": [],
   "source": [
    "all_pages_reviews_list[20]"
   ]
  },
  {
   "cell_type": "code",
   "execution_count": null,
   "metadata": {},
   "outputs": [],
   "source": [
    "movie_dict = {}\n",
    "for i in range(0, len(all_pages_reviews_list)):\n",
    "    movie_dict[titles[i//10] + ' ' + str(i%10 + 1)] = all_pages_reviews_list[i]\n",
    "movie_dict"
   ]
  },
  {
   "cell_type": "code",
   "execution_count": null,
   "metadata": {},
   "outputs": [],
   "source": [
    "for item in movie_dict:\n",
    "    print(item, ' ', len(movie_dict[item]))"
   ]
  },
  {
   "cell_type": "code",
   "execution_count": null,
   "metadata": {},
   "outputs": [],
   "source": [
    "df = pd.DataFrame(dict([(key, pd.Series(value)) for key, value in movie_dict.items()]))\n",
    "#df.to_csv('review_csv.csv')\n",
    "df"
   ]
  },
  {
   "cell_type": "code",
   "execution_count": null,
   "metadata": {},
   "outputs": [],
   "source": [
    "by_reviews_dict = {}\n",
    "\n",
    "for i in range(len(all_pages_reviews_list)):\n",
    "    if i%10 + 1 in by_reviews_dict.keys():\n",
    "        by_reviews_dict[i%10 +1].append(all_pages_reviews_list[i])\n",
    "    else:\n",
    "        by_reviews_dict[i%10 + 1] = []\n",
    "        by_reviews_dict[i%10 +1].append(all_pages_reviews_list[i])\n",
    "\n",
    "review_num_df = pd.DataFrame(dict([(key, pd.Series(value)) for key, value in by_reviews_dict.items()]))\n",
    "review_num_df.to_csv('columns_as_rating.csv')"
   ]
  }
 ],
 "metadata": {
  "kernelspec": {
   "display_name": "Python 3 (ipykernel)",
   "language": "python",
   "name": "python3"
  },
  "language_info": {
   "codemirror_mode": {
    "name": "ipython",
    "version": 3
   },
   "file_extension": ".py",
   "mimetype": "text/x-python",
   "name": "python",
   "nbconvert_exporter": "python",
   "pygments_lexer": "ipython3",
   "version": "3.10.11"
  }
 },
 "nbformat": 4,
 "nbformat_minor": 2
}

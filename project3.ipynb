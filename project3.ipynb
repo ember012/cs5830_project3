{
 "cells": [
  {
   "cell_type": "markdown",
   "id": "680cd7a7",
   "metadata": {},
   "source": [
    "# Project 3: Munging and analyzing data from the web"
   ]
  },
  {
   "cell_type": "code",
   "execution_count": null,
   "id": "eb5d9816",
   "metadata": {},
   "outputs": [],
   "source": [
    "from bs4 import BeautifulSoup\n",
    "import requests\n",
    "import seaborn as sns\n",
    "import re\n",
    "import pandas as pd\n",
    "import numpy as np\n",
    "import matplotlib.pyplot as plt\n",
    "from scipy import stats\n",
    "import warnings\n",
    "warnings.simplefilter(\"ignore\", UserWarning)\n"
   ]
  },
  {
   "cell_type": "markdown",
   "id": "48379e98",
   "metadata": {},
   "source": [
    "## Getting data and cleaning"
   ]
  },
  {
   "cell_type": "code",
   "execution_count": null,
   "id": "9cbe2d0b",
   "metadata": {},
   "outputs": [],
   "source": [
    "headers = {'User-Agent': 'Mozilla/5.0 (Windows NT 10.0; Win64; x64) AppleWebKit/537.36 (KHTML, like Gecko) Chrome/121.0.0.0 Safari/537.36'}\n",
    "\n",
    "html_best = requests.get('https://www.imdb.com/chart/top/?ref_=nv_mv_250', headers=headers)\n",
    "html_worst = requests.get('https://m.imdb.com/chart/bottom/', headers=headers)\n",
    "soup_best = BeautifulSoup(html_best.text, 'html.parser')\n",
    "soup_worst = BeautifulSoup(html_worst.text, 'html.parser')\n",
    "display(soup_worst)"
   ]
  },
  {
   "cell_type": "code",
   "execution_count": null,
   "id": "5dad7918",
   "metadata": {},
   "outputs": [],
   "source": [
    "top_movies = soup_best.find_all('li', attrs={'class': 'ipc-metadata-list-summary-item sc-1364e729-0 caNpAE cli-parent'})\n",
    "\n",
    "titles_best = [re.sub(r'\\d+\\.\\s*','' ,str(item.find('h3', attrs={'class':'ipc-title__text'}).contents[0])) for item in top_movies]\n",
    "display(titles_best)\n",
    "\n",
    "bottom_movies = soup_worst.find_all('li', attrs={'class': 'ipc-metadata-list-summary-item sc-1364e729-0 caNpAE cli-parent'})\n",
    "\n",
    "titles_worst = [re.sub(r'\\d+\\.\\s*','' ,str(item.find('h3', attrs={'class':'ipc-title__text'}).contents[0])) for item in bottom_movies]\n",
    "display(titles_worst)"
   ]
  },
  {
   "cell_type": "code",
   "execution_count": null,
   "id": "1c4ea317",
   "metadata": {},
   "outputs": [],
   "source": [
    "ratings = soup_best.find_all('div', attrs={'class': 'sc-be6f1408-7 iUtHEN cli-title-metadata'})\n",
    "rating_items = [item.find_all('span', attrs={'class': 'sc-be6f1408-8 fcCUPU cli-title-metadata-item'}) for item in ratings]\n",
    "display(rating_items)\n",
    "\n",
    "ratings_worst = soup_worst.find_all('div', attrs={'class': 'sc-be6f1408-7 iUtHEN cli-title-metadata'})\n",
    "rating_items_worst = [item.find_all('span', attrs={'class': 'sc-be6f1408-8 fcCUPU cli-title-metadata-item'}) for item in ratings_worst]\n",
    "display(rating_items_worst)"
   ]
  },
  {
   "cell_type": "code",
   "execution_count": null,
   "id": "eb79a106",
   "metadata": {},
   "outputs": [],
   "source": [
    "pd.set_option('mode.chained_assignment', None)\n",
    "\n",
    "df = pd.DataFrame()\n",
    "\n",
    "years_list_best = [] \n",
    "length_list_best = []\n",
    "rating_list_best = []\n",
    "\n",
    "for i in rating_items:\n",
    "    years_list_best.append(int(i[0].contents[0]))\n",
    "    length_list_best.append(i[1].contents[0])\n",
    "    if len(i) > 2:\n",
    "        rating_list_best.append(i[2].contents[0])\n",
    "    else:\n",
    "        rating_list_best.append('Not Rated')\n",
    "\n",
    "df['Titles'] = titles_best\n",
    "df['Years'] = years_list_best\n",
    "df['Length'] = length_list_best\n",
    "df['Rating'] = rating_list_best\n",
    "\n",
    "\n",
    "\n",
    "for i in range(len(df['Length'])):\n",
    "    if 'm' not in df['Length'][i]:\n",
    "        s = pd.to_datetime(df.Length[i],format='%Hh')\n",
    "        df.replace({'Length': df['Length'][i]}, s.hour*60)\n",
    "        df['Length'][i] = float(s.hour*60)\n",
    "    elif 'h' not in df['Length'][i]:\n",
    "        s = pd.to_datetime(df.Length[i],format='%Mm')\n",
    "        df.replace({'Length': df['Length'][i]}, s.minute)\n",
    "        df['Length'][i] = float(s.minute)\n",
    "    else:\n",
    "        s = pd.to_datetime(df.Length[i], format='%Hh %Mm')\n",
    "        df.replace({'Length': df['Length'][i]}, s.hour*60+s.minute)\n",
    "        df['Length'][i] = float(s.hour*60+s.minute)\n",
    "\n",
    "\n",
    "df['Length'] = df.Length.astype(float)\n",
    "df"
   ]
  },
  {
   "cell_type": "code",
   "execution_count": null,
   "id": "f77850fe",
   "metadata": {},
   "outputs": [],
   "source": [
    "df_worst = pd.DataFrame()\n",
    "\n",
    "years_list_worst = [] \n",
    "length_list_worst = []\n",
    "rating_list_worst = []\n",
    "\n",
    "for i in rating_items_worst:\n",
    "    years_list_worst.append(int(i[0].contents[0]))\n",
    "    length_list_worst.append(i[1].contents[0])\n",
    "    if len(i) > 2:\n",
    "        rating_list_worst.append(i[2].contents[0])\n",
    "    else:\n",
    "        rating_list_worst.append('Not Rated')\n",
    "\n",
    "df_worst['Titles'] = titles_worst\n",
    "df_worst['Years'] = years_list_worst\n",
    "df_worst['Length'] = length_list_worst\n",
    "df_worst['Rating'] = rating_list_worst\n",
    "\n",
    "\n",
    "\n",
    "for i in range(len(df_worst['Length'])):\n",
    "    if 'm' not in df_worst['Length'][i]:\n",
    "        s = pd.to_datetime(df_worst.Length[i],format='%Hh')\n",
    "        df_worst.replace({'Length': df_worst['Length'][i]}, s.hour*60)\n",
    "        df_worst['Length'][i] = float(s.hour*60)\n",
    "        \n",
    "    elif 'h' not in df_worst['Length'][i]:\n",
    "        s = pd.to_datetime(df_worst.Length[i],format='%Mm')\n",
    "        df_worst.replace({'Length': df_worst['Length'][i]}, s.minute)\n",
    "        df_worst['Length'][i] = float(s.minute)\n",
    "    else:\n",
    "        s = pd.to_datetime(df_worst.Length[i], format='%Hh %Mm')\n",
    "        df_worst.replace({'Length': df_worst['Length'][i]}, s.hour*60+s.minute)\n",
    "        df_worst['Length'][i] = float(s.hour*60+s.minute)\n",
    "\n",
    "\n",
    "\n",
    "df_worst['Length'] = df_worst.Length.astype(float)\n",
    "df_worst"
   ]
  },
  {
   "cell_type": "code",
   "execution_count": null,
   "id": "80daf8ce",
   "metadata": {},
   "outputs": [],
   "source": [
    "user_rating_best = soup_best.find_all('span', attrs={'class':'ipc-rating-star ipc-rating-star--base ipc-rating-star--imdb ratingGroup--imdb-rating'})\n",
    "user_rating_comb_best = [item.get_text(strip=True ) for item in user_rating_best]\n",
    "user_rating_best = [float(re.sub(r'\\(.+\\)', '', item)) for item in user_rating_comb_best]\n",
    "# display(user_rating_best)\n",
    "\n",
    "df['ReviewRating'] = user_rating_best\n",
    "display(df)\n",
    "\n",
    "user_rating_worst = soup_worst.find_all('span', attrs={'class':'ipc-rating-star ipc-rating-star--base ipc-rating-star--imdb ratingGroup--imdb-rating'})\n",
    "user_rating_comb_worst = [item.get_text(strip=True ) for item in user_rating_worst]\n",
    "user_rating_worst = [float(re.sub(r'\\(.+\\)', '', item)) for item in user_rating_comb_worst]\n",
    "# display(user_rating_worst)\n",
    "\n",
    "df_worst['ReviewRating'] = user_rating_worst\n",
    "display(df_worst)"
   ]
  },
  {
   "cell_type": "code",
   "execution_count": null,
   "id": "83e54e95",
   "metadata": {},
   "outputs": [],
   "source": [
    "rating_count_best = [re.search(r'\\(\\d+(\\.\\d)?\\w', item).group() for item in user_rating_comb_best]\n",
    "rating_count_best = [re.sub(r'\\(', '', item) for item in rating_count_best]\n",
    "\n",
    "rating_count_worst = [re.search(r'\\(\\d+(\\.\\d)?\\w', item).group() for item in user_rating_comb_worst]\n",
    "rating_count_worst = [re.sub(r'\\(', '', item) for item in rating_count_worst]\n",
    "\n",
    "for i in range(len(rating_count_best)):\n",
    "\n",
    "    if rating_count_best[i][-1] == 'M':\n",
    "\n",
    "        rating_count_best[i] = float(rating_count_best[i][:-1])*1000000\n",
    "    elif rating_count_best[i][-1] == \"K\":\n",
    "\n",
    "        rating_count_best[i] = float(rating_count_best[i][:-1])*1000\n",
    "# display(rating_count_best)\n",
    "\n",
    "for i in range(len(rating_count_worst)):\n",
    "\n",
    "    if rating_count_worst[i][-1] == 'M':\n",
    "\n",
    "        rating_count_worst[i] = float(rating_count_worst[i][:-1])*1000000\n",
    "    elif rating_count_worst[i][-1] == \"K\":\n",
    "\n",
    "        rating_count_worst[i] = float(rating_count_worst[i][:-1])*1000\n",
    "# display(rating_count_worst)\n",
    "\n",
    "\n",
    "df['numReviews'] = rating_count_best\n",
    "df_worst['numReviews'] = rating_count_worst\n",
    "display(df)\n",
    "display(df_worst)"
   ]
  },
  {
   "cell_type": "markdown",
   "id": "12fb9acb",
   "metadata": {},
   "source": [
    "## Number of ratings vs length"
   ]
  },
  {
   "cell_type": "code",
   "execution_count": null,
   "id": "2e3d564d",
   "metadata": {},
   "outputs": [],
   "source": [
    "p_best = sns.regplot(x = 'Length', y = 'ReviewRating', data=df)\n",
    "\n",
    "p_best.set_xlabel('Movie Length (minutes)')\n",
    "p_best.set_ylabel('Review Rating (1-10)')\n",
    "p_best.set_title('Top 250 Movie Length vs. Review Rating')"
   ]
  },
  {
   "cell_type": "code",
   "execution_count": null,
   "id": "d67d4a7f",
   "metadata": {},
   "outputs": [],
   "source": [
    "p_worst = sns.regplot(x = 'Length', y = 'ReviewRating', data=df_worst)\n",
    "\n",
    "p_worst.set_xlabel('Movie Length (minutes)')\n",
    "p_worst.set_ylabel('Review Rating (1-10)')\n",
    "p_worst.set_title('100 Lowest Rated Movie Length vs. Review Rating')"
   ]
  },
  {
   "cell_type": "code",
   "execution_count": null,
   "id": "99273aa1",
   "metadata": {},
   "outputs": [],
   "source": [
    "print(\"Best:\", stats.pearsonr(df.Length, df.ReviewRating))\n",
    "print(\"Worst:\", stats.pearsonr(df_worst.Length, df_worst.ReviewRating))"
   ]
  },
  {
   "cell_type": "markdown",
   "id": "a6fa7fc0",
   "metadata": {},
   "source": [
    "## Average movie length and review rating for top 250 vs bottom 100"
   ]
  },
  {
   "cell_type": "code",
   "execution_count": null,
   "id": "2ad80682",
   "metadata": {},
   "outputs": [],
   "source": [
    "print(\"Best\")\n",
    "best_average_rating = sum(df['ReviewRating']) / len(df['ReviewRating'])\n",
    "display(best_average_rating)\n",
    "\n",
    "\n",
    "best_average_length = sum(df['Length']) / len(df['Length'])\n",
    "display(best_average_length)\n",
    "\n",
    "print(\"Worst\")\n",
    "worst_average_rating = sum(df_worst['ReviewRating']) / len(df_worst['ReviewRating'])\n",
    "display(worst_average_rating)\n",
    "\n",
    "worst_average_length = sum(df_worst['Length']) / len(df_worst['Length'])\n",
    "display(worst_average_length)"
   ]
  },
  {
   "cell_type": "markdown",
   "id": "e3f1047e",
   "metadata": {},
   "source": [
    "## Mean movie length and review rating for top 250 vs bottom 100"
   ]
  },
  {
   "cell_type": "code",
   "execution_count": null,
   "id": "a2d95f3f",
   "metadata": {},
   "outputs": [],
   "source": [
    "print(\"Best\")\n",
    "\n",
    "display(df['ReviewRating'].mean())\n",
    "display(df['Length'].mean())\n",
    "\n",
    "\n",
    "print(\"Worst\")\n",
    "\n",
    "display(df_worst['ReviewRating'].mean())\n",
    "display(df_worst['Length'].mean())"
   ]
  },
  {
   "cell_type": "code",
   "execution_count": null,
   "id": "148a0ccf",
   "metadata": {},
   "outputs": [],
   "source": [
    "display(stats.ttest_ind(df.Length, df_worst.Length))"
   ]
  },
  {
   "cell_type": "code",
   "execution_count": null,
   "id": "77d935de",
   "metadata": {},
   "outputs": [],
   "source": [
    "fig, ax = plt.subplots()\n",
    "sns.kdeplot(df['Length'],label='Best Movies')\n",
    "sns.kdeplot(df_worst['Length'], label='Worst Movies')\n",
    "fig.suptitle('Density of Movie lengths for Best and Worst Movies')\n",
    "plt.legend()"
   ]
  },
  {
   "cell_type": "markdown",
   "id": "d7e9d67e",
   "metadata": {},
   "source": [
    "# Number of reviews vs. Average rating"
   ]
  },
  {
   "cell_type": "code",
   "execution_count": null,
   "id": "43a3f7c0",
   "metadata": {},
   "outputs": [],
   "source": [
    "sns.scatterplot(data=df, x='ReviewRating', y='numReviews')\n",
    "plt.figure()\n",
    "sns.regplot(data=df, x='ReviewRating', y='numReviews')\n",
    "print('all movies: ', stats.pearsonr(x=df['ReviewRating'], y=df['numReviews']))\n",
    "plt.title('Average Rating vs number of reviews')\n",
    "plt.figure()"
   ]
  },
  {
   "cell_type": "markdown",
   "id": "cbc549ab",
   "metadata": {},
   "source": [
    "# Does MPAA rating affect the reviews? "
   ]
  },
  {
   "cell_type": "code",
   "execution_count": null,
   "id": "7258611a",
   "metadata": {},
   "outputs": [],
   "source": [
    "# Films that are not rated were not made in the US\n",
    "print(df['Rating'].unique())\n",
    "print(df['Rating'].value_counts().keys())\n",
    "\n",
    "mapping = {'R':'Restricted', 'X':'Restricted', '18+': 'Restricted', 'TV-MA':'Restricted', 'G':'Unrestricted', \n",
    "           'PG':'Unrestricted', 'TV-PG':'Unrestricted', 'PG-13':'Unrestricted', 'Unrated':'Other', \n",
    "           'Passed':'Other', 'Approved':'Other', 'GP':'Other', 'Not Rated':'Other'}\n",
    "df['Rating_cat'] = df['Rating'].replace(mapping)\n",
    "\n",
    "\n",
    "sns.countplot(data=df, x='Rating_cat', hue='Rating_cat')\n",
    "plt.title('Rating category counts')\n",
    "plt.figure()\n",
    "sns.kdeplot(data=df[df['Rating_cat'] == 'Restricted'], x='ReviewRating', label='Restricted')\n",
    "sns.kdeplot(data=df[df['Rating_cat'] == 'Unrestricted'], x='ReviewRating', label = 'Unrestricted')\n",
    "sns.kdeplot(data=df[df['Rating_cat'] == 'Other'], x='ReviewRating', label='Other')\n",
    "plt.legend()\n",
    "plt.title('Rating category densities')\n",
    "age_restricted = df[df['Rating_cat'] == 'Restricted']['ReviewRating']\n",
    "not_age_restricted = df[df['Rating_cat'] == 'Unrestricted']['ReviewRating']\n",
    "not_age_restricted = df[df['Rating_cat'] == 'Other']['ReviewRating']\n",
    "stats.ttest_ind(age_restricted, not_age_restricted, nan_policy='omit')"
   ]
  }
 ],
 "metadata": {
  "kernelspec": {
   "display_name": "Python 3 (ipykernel)",
   "language": "python",
   "name": "python3"
  },
  "language_info": {
   "codemirror_mode": {
    "name": "ipython",
    "version": 3
   },
   "file_extension": ".py",
   "mimetype": "text/x-python",
   "name": "python",
   "nbconvert_exporter": "python",
   "pygments_lexer": "ipython3",
   "version": "3.11.4"
  }
 },
 "nbformat": 4,
 "nbformat_minor": 5
}

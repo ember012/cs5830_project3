{
 "cells": [
  {
   "cell_type": "markdown",
   "id": "680cd7a7",
   "metadata": {},
   "source": [
    "# Project 3: Munging and analyzing data from the web"
   ]
  },
  {
   "cell_type": "code",
   "execution_count": null,
   "id": "eb5d9816",
   "metadata": {},
   "outputs": [],
   "source": [
    "from bs4 import BeautifulSoup\n",
    "import requests\n",
    "import seaborn as sns\n",
    "import re\n",
    "import pandas as pd\n",
    "import numpy as np\n",
    "import matplotlib.pyplot as plt\n"
   ]
  },
  {
   "cell_type": "code",
   "execution_count": null,
   "id": "9cbe2d0b",
   "metadata": {},
   "outputs": [],
   "source": [
    "headers = {'User-Agent': 'Mozilla/5.0 (Windows NT 10.0; Win64; x64) AppleWebKit/537.36 (KHTML, like Gecko) Chrome/121.0.0.0 Safari/537.36'}\n",
    "\n",
    "html_best = requests.get('https://www.imdb.com/chart/top/?ref_=nv_mv_250', headers=headers)\n",
    "html_worst = requests.get('https://m.imdb.com/chart/bottom/', headers=headers)\n",
    "soup_best = BeautifulSoup(html_best.text)\n",
    "soup_worst = BeautifulSoup(html_worst.text)\n",
    "display(soup_worst)"
   ]
  },
  {
   "cell_type": "code",
   "execution_count": null,
   "id": "5dad7918",
   "metadata": {},
   "outputs": [],
   "source": [
    "top_movies = soup_best.find_all('li', attrs={'class': 'ipc-metadata-list-summary-item sc-1364e729-0 caNpAE cli-parent'})\n",
    "\n",
    "titles_best = [re.sub(r'\\d+\\.\\s*','' ,str(item.find('h3', attrs={'class':'ipc-title__text'}).contents[0])) for item in top_movies]\n",
    "display(titles_best)\n",
    "\n",
    "bottom_movies = soup_worst.find_all('li', attrs={'class': 'ipc-metadata-list-summary-item sc-1364e729-0 caNpAE cli-parent'})\n",
    "\n",
    "titles_worst = [re.sub(r'\\d+\\.\\s*','' ,str(item.find('h3', attrs={'class':'ipc-title__text'}).contents[0])) for item in bottom_movies]\n",
    "display(titles_worst)"
   ]
  },
  {
   "cell_type": "code",
   "execution_count": null,
   "id": "1c4ea317",
   "metadata": {},
   "outputs": [],
   "source": [
    "ratings = soup_best.find_all('div', attrs={'class': 'sc-be6f1408-7 iUtHEN cli-title-metadata'})\n",
    "rating_items = [item.find_all('span', attrs={'class': 'sc-be6f1408-8 fcCUPU cli-title-metadata-item'}) for item in ratings]\n",
    "display(rating_items)"
   ]
  },
  {
   "cell_type": "code",
   "execution_count": null,
   "id": "eb79a106",
   "metadata": {},
   "outputs": [],
   "source": [
    "df = pd.DataFrame()\n",
    "\n",
    "years_list_best = [] \n",
    "length_list_best = []\n",
    "rating_list_best = []\n",
    "\n",
    "for i in rating_items:\n",
    "\n",
    "    \n",
    "    years_list_best.append(int(i[0].contents[0]))\n",
    "    length_list_best.append(i[1].contents[0])\n",
    "    if len(i) > 2:\n",
    "        rating_list_best.append(i[2].contents[0])\n",
    "    else:\n",
    "        rating_list_best.append('Not Rated')\n",
    "df['Years'] = years_list_best\n",
    "df['Length'] = length_list_best\n",
    "df['Rating'] = rating_list_best\n",
    "df\n"
   ]
  }
 ],
 "metadata": {
  "kernelspec": {
   "display_name": "Python 3 (ipykernel)",
   "language": "python",
   "name": "python3"
  },
  "language_info": {
   "codemirror_mode": {
    "name": "ipython",
    "version": 3
   },
   "file_extension": ".py",
   "mimetype": "text/x-python",
   "name": "python",
   "nbconvert_exporter": "python",
   "pygments_lexer": "ipython3",
   "version": "3.11.4"
  }
 },
 "nbformat": 4,
 "nbformat_minor": 5
}

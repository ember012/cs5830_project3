{
 "cells": [
  {
   "cell_type": "code",
   "execution_count": null,
   "metadata": {},
   "outputs": [],
   "source": [
    "from bs4 import BeautifulSoup\n",
    "import pandas as pd \n",
    "import seaborn as sns\n",
    "import requests\n",
    "import re\n"
   ]
  },
  {
   "cell_type": "code",
   "execution_count": null,
   "metadata": {},
   "outputs": [],
   "source": [
    "headers = {'User-Agent': 'Mozilla/5.0 (Windows NT 10.0; Win64; x64) AppleWebKit/537.36 (KHTML, like Gecko) Chrome/121.0.0.0 Safari/537.36'}\n",
    "title_page = requests.get('https://www.imdb.com/chart/top/?ref_=nv_mv_250', headers=headers)\n",
    "tp_soup = BeautifulSoup(title_page.content, 'html.parser')"
   ]
  },
  {
   "cell_type": "code",
   "execution_count": null,
   "metadata": {},
   "outputs": [],
   "source": [
    "top_movies = tp_soup.find_all('li', attrs={'class': 'ipc-metadata-list-summary-item sc-1364e729-0 caNpAE cli-parent'})\n",
    "titles = [re.sub(r'\\d+\\.\\s*','' ,str(item.find('h3', attrs={'class':'ipc-title__text'}).contents[0])) for item in top_movies]\n",
    "display(titles)\n"
   ]
  },
  {
   "cell_type": "code",
   "execution_count": null,
   "metadata": {},
   "outputs": [],
   "source": [
    "user_rating = tp_soup.find_all('span', attrs={'class':'ipc-rating-star ipc-rating-star--base ipc-rating-star--imdb ratingGroup--imdb-rating'})\n",
    "user_rating_comb = [item.get_text(strip=True ) for item in user_rating]\n",
    "user_rating = [re.sub(r'\\(.+\\)', '', item) for item in user_rating_comb]\n",
    "user_rating"
   ]
  },
  {
   "cell_type": "code",
   "execution_count": null,
   "metadata": {},
   "outputs": [],
   "source": [
    "rating_count = [re.search(r'\\(\\d+(\\.\\d)?\\w', item).group() for item in user_rating_comb]\n",
    "rating_count = [re.sub(r'\\(', '', item) for item in rating_count]\n",
    "# display(rating_count)\n",
    "for i in range(len(rating_count)):\n",
    "\n",
    "    if rating_count[i][-1] == 'M':\n",
    "\n",
    "        rating_count[i] = float(rating_count[i][:-1])*1000000\n",
    "    elif rating_count[i][-1] == \"K\":\n",
    "\n",
    "        rating_count[i] = float(rating_count[i][:-1])*1000\n",
    "rating_count"
   ]
  }
 ],
 "metadata": {
  "kernelspec": {
   "display_name": "Python 3",
   "language": "python",
   "name": "python3"
  },
  "language_info": {
   "codemirror_mode": {
    "name": "ipython",
    "version": 3
   },
   "file_extension": ".py",
   "mimetype": "text/x-python",
   "name": "python",
   "nbconvert_exporter": "python",
   "pygments_lexer": "ipython3",
   "version": "3.10.11"
  }
 },
 "nbformat": 4,
 "nbformat_minor": 2
}

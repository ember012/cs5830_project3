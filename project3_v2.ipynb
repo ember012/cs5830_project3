{
 "cells": [
  {
   "cell_type": "code",
   "execution_count": null,
   "metadata": {},
   "outputs": [],
   "source": [
    "from bs4 import BeautifulSoup\n",
    "import pandas as pd \n",
    "import seaborn as sns\n",
    "import requests\n",
    "import re\n"
   ]
  },
  {
   "cell_type": "code",
   "execution_count": null,
   "metadata": {},
   "outputs": [],
   "source": [
    "headers = {'User-Agent': 'Mozilla/5.0 (Windows NT 10.0; Win64; x64) AppleWebKit/537.36 (KHTML, like Gecko) Chrome/121.0.0.0 Safari/537.36'}\n",
    "title_page = requests.get('https://www.imdb.com/chart/top/?ref_=nv_mv_250', headers=headers)\n",
    "tp_soup = BeautifulSoup(title_page.content, 'html.parser')"
   ]
  },
  {
   "cell_type": "code",
   "execution_count": null,
   "metadata": {},
   "outputs": [],
   "source": [
    "top_movies = tp_soup.find_all('li', attrs={'class': 'ipc-metadata-list-summary-item sc-1364e729-0 caNpAE cli-parent'})\n",
    "titles = [re.sub(r'\\d+\\.\\s*','' ,str(item.find('h3', attrs={'class':'ipc-title__text'}).contents[0])) for item in top_movies]\n",
    "display(titles)\n"
   ]
  },
  {
   "cell_type": "code",
   "execution_count": null,
   "metadata": {},
   "outputs": [],
   "source": [
    "user_rating = tp_soup.find_all('span', attrs={'class':'ipc-rating-star ipc-rating-star--base ipc-rating-star--imdb ratingGroup--imdb-rating'})\n",
    "user_rating_comb = [item.get_text(strip=True ) for item in user_rating]\n",
    "user_rating = [re.sub(r'\\(.+\\)', '', item) for item in user_rating_comb]\n",
    "user_rating"
   ]
  },
  {
   "cell_type": "code",
   "execution_count": null,
   "metadata": {},
   "outputs": [],
   "source": [
    "rating_count = [re.search(r'\\(\\d+(\\.\\d)?\\w', item).group() for item in user_rating_comb]\n",
    "rating_count = [re.sub(r'\\(', '', item) for item in rating_count]\n",
    "# display(rating_count)\n",
    "for i in range(len(rating_count)):\n",
    "\n",
    "    if rating_count[i][-1] == 'M':\n",
    "\n",
    "        rating_count[i] = float(rating_count[i][:-1])*1000000\n",
    "    elif rating_count[i][-1] == \"K\":\n",
    "\n",
    "        rating_count[i] = float(rating_count[i][:-1])*1000\n",
    "rating_count\n",
    "\n",
    "len(rating_count)"
   ]
  },
  {
   "cell_type": "markdown",
   "metadata": {},
   "source": [
    "First Analysis: Year the movies came out.\n",
    "\n",
    "Note: The first movie with synchronized dialogue was released in 1927"
   ]
  },
  {
   "cell_type": "markdown",
   "metadata": {},
   "source": [
    "Second Analysis: Place in table vs number of ratings"
   ]
  },
  {
   "cell_type": "code",
   "execution_count": null,
   "metadata": {},
   "outputs": [],
   "source": [
    "ratings = tp_soup.find_all('div', attrs={'class': 'sc-be6f1408-7 iUtHEN cli-title-metadata'})\n",
    "rating_items = [item.find_all('span', attrs={'class': 'sc-be6f1408-8 fcCUPU cli-title-metadata-item'}) for item in ratings]\n",
    "display(rating_items)"
   ]
  },
  {
   "cell_type": "code",
   "execution_count": null,
   "metadata": {},
   "outputs": [],
   "source": [
    "place = [i for i in range(1, 251)]\n",
    "\n",
    "\n",
    "movie_df = pd.DataFrame({'Title':titles, 'Place': place, 'Number_of_ratings': rating_count, 'Average_rating':user_rating})\n",
    "\n",
    "years_list_best = [] \n",
    "length_list_best = []\n",
    "rating_list_best = []\n",
    "\n",
    "for i in rating_items:\n",
    "\n",
    "    \n",
    "    years_list_best.append(int(i[0].contents[0]))\n",
    "    length_list_best.append(i[1].contents[0])\n",
    "    if len(i) > 2:\n",
    "        rating_list_best.append(i[2].contents[0])\n",
    "    else:\n",
    "        rating_list_best.append('Not Rated')\n",
    "movie_df['Years'] = years_list_best\n",
    "movie_df['Length'] = length_list_best\n",
    "movie_df['Rating'] = rating_list_best\n",
    "\n",
    "movie_df['Average_rating'] = pd.to_numeric(movie_df['Average_rating'])\n",
    "movie_df"
   ]
  },
  {
   "cell_type": "code",
   "execution_count": null,
   "metadata": {},
   "outputs": [],
   "source": [
    "import scipy.stats as stats\n",
    "import matplotlib.pyplot as plt\n",
    "\n",
    "sns.scatterplot(data=movie_df, x='Average_rating', y='Number_of_ratings')\n",
    "plt.figure()\n",
    "sns.regplot(data=movie_df, x='Average_rating', y='Number_of_ratings')\n",
    "print('all movies: ', stats.pearsonr(x=movie_df['Average_rating'], y=movie_df['Number_of_ratings']))\n",
    "plt.title('Average Rating vs number of reviews')\n",
    "plt.figure()"
   ]
  },
  {
   "cell_type": "code",
   "execution_count": null,
   "metadata": {},
   "outputs": [],
   "source": [
    "# Films that are not rated were not made in the US\n",
    "print(movie_df['Rating'].unique())\n",
    "print(movie_df['Rating'].value_counts().keys())\n",
    "\n",
    "mapping = {'R':'Restricted', 'X':'Restricted', '18+': 'Restricted', 'TV-MA':'Restricted', 'G':'Unrestricted', \n",
    "           'PG':'Unrestricted', 'TV-PG':'Unrestricted', 'PG-13':'Unrestricted', 'Unrated':'Other', \n",
    "           'Passed':'Other', 'Approved':'Other', 'GP':'Other', 'Not Rated':'Other'}\n",
    "movie_df['Rating_cat'] = movie_df['Rating'].replace(mapping)\n",
    "\n",
    "\n",
    "sns.countplot(data=movie_df, x='Rating_cat', hue='Rating_cat')\n",
    "plt.title('Rating category counts')\n",
    "plt.figure()\n",
    "sns.kdeplot(data=movie_df[movie_df['Rating_cat'] == 'Restricted'], x='Average_rating', label='Restricted')\n",
    "sns.kdeplot(data=movie_df[movie_df['Rating_cat'] == 'Unrestricted'], x='Average_rating', label = 'Unrestricted')\n",
    "sns.kdeplot(data=movie_df[movie_df['Rating_cat'] == 'Other'], x='Average_rating', label='Other')\n",
    "plt.legend()\n",
    "plt.title('Rating category densities')\n",
    "age_restricted = movie_df[movie_df['Rating_cat'] == 'Restricted']['Average_rating']\n",
    "not_age_restricted = movie_df[movie_df['Rating_cat'] == 'Unrestricted']['Average_rating']\n",
    "not_age_restricted = movie_df[movie_df['Rating_cat'] == 'Other']['Average_rating']\n",
    "stats.ttest_ind(age_restricted, not_age_restricted, nan_policy='omit')"
   ]
  }
 ],
 "metadata": {
  "kernelspec": {
   "display_name": "Python 3",
   "language": "python",
   "name": "python3"
  },
  "language_info": {
   "codemirror_mode": {
    "name": "ipython",
    "version": 3
   },
   "file_extension": ".py",
   "mimetype": "text/x-python",
   "name": "python",
   "nbconvert_exporter": "python",
   "pygments_lexer": "ipython3",
   "version": "3.10.11"
  }
 },
 "nbformat": 4,
 "nbformat_minor": 2
}
